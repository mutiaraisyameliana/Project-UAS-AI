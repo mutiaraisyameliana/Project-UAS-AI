{
 "cells": [
  {
   "cell_type": "code",
   "execution_count": 25,
   "id": "f20ece8e",
   "metadata": {},
   "outputs": [],
   "source": [
    "import pandas as pd"
   ]
  },
  {
   "cell_type": "code",
   "execution_count": 26,
   "id": "b0868e4d",
   "metadata": {},
   "outputs": [],
   "source": [
    "# Membaca data dari file CSV\n",
    "data = pd.read_csv('data_sensor.csv')"
   ]
  },
  {
   "cell_type": "code",
   "execution_count": 27,
   "id": "b6107b1a",
   "metadata": {},
   "outputs": [
    {
     "data": {
      "text/html": [
       "<div>\n",
       "<style scoped>\n",
       "    .dataframe tbody tr th:only-of-type {\n",
       "        vertical-align: middle;\n",
       "    }\n",
       "\n",
       "    .dataframe tbody tr th {\n",
       "        vertical-align: top;\n",
       "    }\n",
       "\n",
       "    .dataframe thead th {\n",
       "        text-align: right;\n",
       "    }\n",
       "</style>\n",
       "<table border=\"1\" class=\"dataframe\">\n",
       "  <thead>\n",
       "    <tr style=\"text-align: right;\">\n",
       "      <th></th>\n",
       "      <th>waktu</th>\n",
       "      <th>lokasi</th>\n",
       "      <th>kepenuhan</th>\n",
       "    </tr>\n",
       "  </thead>\n",
       "  <tbody>\n",
       "    <tr>\n",
       "      <th>0</th>\n",
       "      <td>2024-01-01 00:00:00</td>\n",
       "      <td>Location_7</td>\n",
       "      <td>38</td>\n",
       "    </tr>\n",
       "    <tr>\n",
       "      <th>1</th>\n",
       "      <td>2024-01-01 01:00:00</td>\n",
       "      <td>Location_4</td>\n",
       "      <td>81</td>\n",
       "    </tr>\n",
       "    <tr>\n",
       "      <th>2</th>\n",
       "      <td>2024-01-01 02:00:00</td>\n",
       "      <td>Location_8</td>\n",
       "      <td>0</td>\n",
       "    </tr>\n",
       "    <tr>\n",
       "      <th>3</th>\n",
       "      <td>2024-01-01 03:00:00</td>\n",
       "      <td>Location_5</td>\n",
       "      <td>10</td>\n",
       "    </tr>\n",
       "    <tr>\n",
       "      <th>4</th>\n",
       "      <td>2024-01-01 04:00:00</td>\n",
       "      <td>Location_7</td>\n",
       "      <td>91</td>\n",
       "    </tr>\n",
       "  </tbody>\n",
       "</table>\n",
       "</div>"
      ],
      "text/plain": [
       "                 waktu      lokasi  kepenuhan\n",
       "0  2024-01-01 00:00:00  Location_7         38\n",
       "1  2024-01-01 01:00:00  Location_4         81\n",
       "2  2024-01-01 02:00:00  Location_8          0\n",
       "3  2024-01-01 03:00:00  Location_5         10\n",
       "4  2024-01-01 04:00:00  Location_7         91"
      ]
     },
     "execution_count": 27,
     "metadata": {},
     "output_type": "execute_result"
    }
   ],
   "source": [
    "# Menampilkan beberapa baris pertama dari data untuk memahami strukturnya\n",
    "data.head()"
   ]
  },
  {
   "cell_type": "code",
   "execution_count": 28,
   "id": "900f931b",
   "metadata": {},
   "outputs": [],
   "source": [
    "from collections import deque, defaultdict"
   ]
  },
  {
   "cell_type": "code",
   "execution_count": 29,
   "id": "0de427b9",
   "metadata": {},
   "outputs": [],
   "source": [
    "# Membangun graf dari data\n",
    "def build_graph(data):\n",
    "    graph = defaultdict(list)\n",
    "    for index, row in data.iterrows():\n",
    "        graph[row['lokasi']].append((row['waktu'], row['kepenuhan']))\n",
    "    return graph"
   ]
  },
  {
   "cell_type": "code",
   "execution_count": 30,
   "id": "beb07fae",
   "metadata": {},
   "outputs": [],
   "source": [
    "# Implementasi BFS\n",
    "def bfs(graph, start):\n",
    "    visited = set()\n",
    "    queue = deque([start])\n",
    "    while queue:\n",
    "        node = queue.popleft()\n",
    "        if node not in visited:\n",
    "            visited.add(node)\n",
    "            print(f\"Visited {node}\")\n",
    "            for neighbor in graph[node]:\n",
    "                queue.append(neighbor[0])"
   ]
  },
  {
   "cell_type": "code",
   "execution_count": 31,
   "id": "066bb57f",
   "metadata": {},
   "outputs": [],
   "source": [
    "# Implementasi DFS\n",
    "def dfs(graph, start, visited=set()):\n",
    "    if start not in visited:\n",
    "        print(f\"Visited {start}\")\n",
    "        visited.add(start)\n",
    "        for neighbor in graph[start]:\n",
    "            dfs(graph, neighbor[0], visited)"
   ]
  },
  {
   "cell_type": "code",
   "execution_count": 32,
   "id": "5d746b45",
   "metadata": {},
   "outputs": [],
   "source": [
    "# Membangun graf\n",
    "graph = build_graph(data)"
   ]
  },
  {
   "cell_type": "code",
   "execution_count": 34,
   "id": "fdf36461",
   "metadata": {},
   "outputs": [
    {
     "name": "stdout",
     "output_type": "stream",
     "text": [
      "BFS:\n",
      "Visited Location_1\n",
      "Visited 2024-01-01 21:00:00\n",
      "Visited 2024-01-02 01:00:00\n",
      "Visited 2024-01-03 03:00:00\n",
      "Visited 2024-01-04 06:00:00\n",
      "Visited 2024-01-04 11:00:00\n",
      "Visited 2024-01-04 15:00:00\n",
      "Visited 2024-01-04 19:00:00\n",
      "Visited 2024-01-05 05:00:00\n",
      "Visited 2024-01-05 14:00:00\n",
      "Visited 2024-01-05 18:00:00\n",
      "Visited 2024-01-06 04:00:00\n",
      "Visited 2024-01-07 00:00:00\n",
      "Visited 2024-01-07 01:00:00\n",
      "Visited 2024-01-07 12:00:00\n",
      "Visited 2024-01-07 20:00:00\n",
      "Visited 2024-01-07 21:00:00\n",
      "Visited 2024-01-08 03:00:00\n",
      "Visited 2024-01-08 05:00:00\n",
      "Visited 2024-01-08 07:00:00\n",
      "Visited 2024-01-08 08:00:00\n",
      "Visited 2024-01-08 14:00:00\n",
      "Visited 2024-01-08 15:00:00\n",
      "Visited 2024-01-09 01:00:00\n",
      "Visited 2024-01-09 09:00:00\n",
      "Visited 2024-01-09 23:00:00\n",
      "\n",
      "DFS:\n",
      "Visited Location_7\n",
      "Visited 2024-01-01 00:00:00\n",
      "Visited 2024-01-01 04:00:00\n",
      "Visited 2024-01-01 07:00:00\n",
      "Visited 2024-01-02 04:00:00\n",
      "Visited 2024-01-02 10:00:00\n",
      "Visited 2024-01-02 13:00:00\n",
      "Visited 2024-01-03 00:00:00\n",
      "Visited 2024-01-03 20:00:00\n",
      "Visited 2024-01-04 08:00:00\n",
      "Visited 2024-01-04 22:00:00\n",
      "Visited 2024-01-05 01:00:00\n",
      "Visited 2024-01-05 06:00:00\n",
      "Visited 2024-01-05 07:00:00\n",
      "Visited 2024-01-05 21:00:00\n",
      "Visited 2024-01-05 22:00:00\n",
      "Visited 2024-01-06 03:00:00\n",
      "Visited 2024-01-06 08:00:00\n",
      "Visited 2024-01-06 09:00:00\n",
      "Visited 2024-01-06 11:00:00\n",
      "Visited 2024-01-06 21:00:00\n",
      "Visited 2024-01-06 23:00:00\n",
      "Visited 2024-01-07 07:00:00\n",
      "Visited 2024-01-08 00:00:00\n",
      "Visited 2024-01-08 12:00:00\n",
      "Visited 2024-01-08 21:00:00\n",
      "Visited 2024-01-08 23:00:00\n",
      "Visited 2024-01-09 20:00:00\n"
     ]
    }
   ],
   "source": [
    "# Menjalankan BFS dan DFS\n",
    "print(\"BFS:\")\n",
    "bfs(graph, 'Location_1')\n",
    "\n",
    "print(\"\\nDFS:\")\n",
    "dfs(graph, 'Location_7')"
   ]
  },
  {
   "cell_type": "code",
   "execution_count": null,
   "id": "1c1bb971",
   "metadata": {},
   "outputs": [],
   "source": []
  }
 ],
 "metadata": {
  "kernelspec": {
   "display_name": "Python 3 (ipykernel)",
   "language": "python",
   "name": "python3"
  },
  "language_info": {
   "codemirror_mode": {
    "name": "ipython",
    "version": 3
   },
   "file_extension": ".py",
   "mimetype": "text/x-python",
   "name": "python",
   "nbconvert_exporter": "python",
   "pygments_lexer": "ipython3",
   "version": "3.11.5"
  }
 },
 "nbformat": 4,
 "nbformat_minor": 5
}
